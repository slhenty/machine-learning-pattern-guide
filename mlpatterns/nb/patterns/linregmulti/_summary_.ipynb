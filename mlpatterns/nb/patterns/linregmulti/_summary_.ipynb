{
 "cells": [
  {
   "cell_type": "code",
   "execution_count": 1,
   "metadata": {
    "ExecuteTime": {
     "end_time": "2022-04-06T23:07:17.554561Z",
     "start_time": "2022-04-06T23:07:17.540766Z"
    },
    "code_folding": [],
    "deletable": false,
    "editable": false,
    "hide_input": true,
    "pycharm": {
     "name": "#%%\n"
    },
    "run_control": {
     "frozen": true
    }
   },
   "outputs": [
    {
     "data": {
      "text/plain": "<IPython.core.display.Markdown object>",
      "text/markdown": "| Abbreviation | Architecture                                     |    Type    | Use                   | Limitation                               |\n|:------------:|:-------------------------------------------------|:----------:|:----------------------|:-----------------------------------------|\n    |  linregmulti   | Polynomial in multiple variables (aka 'input features') | Supervised | Real value prediction | Underfits non-linear data<br>(high bias) |\n"
     },
     "metadata": {},
     "output_type": "display_data"
    }
   ],
   "source": [
    "%%markdown\n",
    "| Abbreviation | Architecture                                     |    Type    | Use                   | Limitation                               |\n",
    "|:------------:|:-------------------------------------------------|:----------:|:----------------------|:-----------------------------------------|\n",
    "    |  linregmulti   | Polynomial in multiple variables (aka 'input features') | Supervised | Real value prediction | Underfits non-linear data<br>(high bias) |"
   ]
  }
 ],
 "metadata": {
  "hide_input": false,
  "kernelspec": {
   "display_name": "Python 3 (ipykernel)",
   "language": "python",
   "name": "python3"
  },
  "language_info": {
   "codemirror_mode": {
    "name": "ipython",
    "version": 3
   },
   "file_extension": ".py",
   "mimetype": "text/x-python",
   "name": "python",
   "nbconvert_exporter": "python",
   "pygments_lexer": "ipython3",
   "version": "3.10.4"
  },
  "toc": {
   "base_numbering": 1,
   "nav_menu": {},
   "number_sections": true,
   "sideBar": true,
   "skip_h1_title": false,
   "title_cell": "Table of Contents",
   "title_sidebar": "Contents",
   "toc_cell": false,
   "toc_position": {},
   "toc_section_display": true,
   "toc_window_display": true
  }
 },
 "nbformat": 4,
 "nbformat_minor": 1
}