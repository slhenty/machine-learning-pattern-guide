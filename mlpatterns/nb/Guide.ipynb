{
 "cells": [
  {
   "cell_type": "code",
   "execution_count": 1,
   "metadata": {
    "code_folding": [],
    "deletable": false,
    "editable": false,
    "hide_input": true,
    "init_cell": true,
    "scrolled": true
   },
   "outputs": [
    {
     "data": {
      "text/html": [
       "<style>.rendered_html table{margin-left:0;margin-right:auto;} </style>"
      ],
      "text/plain": [
       "<IPython.core.display.HTML object>"
      ]
     },
     "execution_count": 1,
     "metadata": {},
     "output_type": "execute_result"
    }
   ],
   "source": [
    "from mlpatterns.util._style_init_ import align_tables\n",
    "align_tables('left')"
   ]
  },
  {
   "cell_type": "markdown",
   "metadata": {
    "deletable": false,
    "editable": false,
    "pycharm": {
     "name": "#%% md\n"
    },
    "run_control": {
     "frozen": true
    }
   },
   "source": [
    "# Pattern Guide to Machine Learning Models\n",
    "Steve Henty, 2022"
   ]
  },
  {
   "cell_type": "markdown",
   "metadata": {
    "deletable": false,
    "editable": false,
    "heading_collapsed": true,
    "jp-MarkdownHeadingCollapsed": true,
    "pycharm": {
     "name": "#%% md\n"
    },
    "run_control": {
     "frozen": true
    },
    "tags": []
   },
   "source": [
    "## Pattern Template"
   ]
  },
  {
   "cell_type": "markdown",
   "metadata": {
    "deletable": false,
    "editable": false,
    "hidden": true,
    "pycharm": {
     "name": "#%% md\n"
    },
    "run_control": {
     "frozen": true
    }
   },
   "source": [
    "**Name** (linear regression, logistic regression, classification, k-means, PCA, ...)\n",
    "- Abbreviation (linreguni, logregmulti, cnn, ...)\n",
    "- Architecture (neural network, regression, SVM, ...)\n",
    "- Type (supervised, unsupervised, ...)\n",
    "- Use (real prediction, category classification, clustering, time-series prediction, ...)\n",
    "    - strength / weakness (aside from typical under- and over-fitting)\n",
    "- Characteristics\n",
    "    - objective\n",
    "    - learning algorithm\n",
    "    - parameters\n",
    "    - hyperparamters\n",
    "- Algorithms\n",
    "    - foreward func / prediction\n",
    "    - loss function\n",
    "    - cost function\n",
    "    - backward func / learning / parameter update\n",
    "- Evaluation\n",
    "    - gradient validation\n",
    "    - bias / variance (aka under- / over-fitting)\n",
    "    - decision boundary\n",
    "    - learning curve\n",
    "    - error rate\n",
    "    - precision / recall\n",
    "- reference / library support"
   ]
  },
  {
   "cell_type": "markdown",
   "metadata": {
    "deletable": false,
    "editable": false,
    "run_control": {
     "frozen": true
    }
   },
   "source": [
    "# Patterns"
   ]
  },
  {
   "cell_type": "markdown",
   "metadata": {
    "deletable": false,
    "editable": false,
    "pycharm": {
     "name": "#%% md\n"
    },
    "run_control": {
     "frozen": true
    },
    "tags": []
   },
   "source": [
    "## Regression Patterns"
   ]
  },
  {
   "cell_type": "markdown",
   "metadata": {
    "deletable": false,
    "editable": false,
    "jp-MarkdownHeadingCollapsed": true,
    "pycharm": {
     "name": "#%% md\n"
    },
    "run_control": {
     "frozen": true
    },
    "tags": []
   },
   "source": [
    "### Linear Regression - univariate [(details >)](./patterns/linreguni/linreguni.ipynb)"
   ]
  },
  {
   "cell_type": "code",
   "execution_count": 2,
   "metadata": {
    "deletable": false,
    "editable": false,
    "hide_input": true,
    "init_cell": true
   },
   "outputs": [
    {
     "data": {
      "text/markdown": [
       "| Abbreviation | Architecture                                     |    Type    | Use                   | Limitation                               |\n",
       "|:------------:|:-------------------------------------------------|:----------:|:----------------------|:-----------------------------------------|\n",
       "    |  linreguni   | Polynomial in one variable (aka 'input feature') | Supervised | Real value prediction | Underfits non-linear data<br>(high bias) |\n"
      ],
      "text/plain": [
       "<IPython.core.display.Markdown object>"
      ]
     },
     "metadata": {},
     "output_type": "display_data"
    }
   ],
   "source": [
    "%run ./patterns/linreguni/_summary_.ipynb"
   ]
  }
 ],
 "metadata": {
  "celltoolbar": "Initialization Cell",
  "hide_input": true,
  "kernelspec": {
   "display_name": "Python 3 (ipykernel)",
   "language": "python",
   "name": "python3"
  },
  "language_info": {
   "codemirror_mode": {
    "name": "ipython",
    "version": 3
   },
   "file_extension": ".py",
   "mimetype": "text/x-python",
   "name": "python",
   "nbconvert_exporter": "python",
   "pygments_lexer": "ipython3",
   "version": "3.10.4"
  },
  "toc": {
   "base_numbering": 1,
   "nav_menu": {},
   "number_sections": true,
   "sideBar": true,
   "skip_h1_title": false,
   "title_cell": "Table of Contents",
   "title_sidebar": "Contents",
   "toc_cell": false,
   "toc_position": {},
   "toc_section_display": true,
   "toc_window_display": true
  },
  "varInspector": {
   "cols": {
    "lenName": 16,
    "lenType": 16,
    "lenVar": 40
   },
   "kernels_config": {
    "python": {
     "delete_cmd_postfix": "",
     "delete_cmd_prefix": "del ",
     "library": "var_list.py",
     "varRefreshCmd": "print(var_dic_list())"
    },
    "r": {
     "delete_cmd_postfix": ") ",
     "delete_cmd_prefix": "rm(",
     "library": "var_list.r",
     "varRefreshCmd": "cat(var_dic_list()) "
    }
   },
   "types_to_exclude": [
    "module",
    "function",
    "builtin_function_or_method",
    "instance",
    "_Feature"
   ],
   "window_display": false
  }
 },
 "nbformat": 4,
 "nbformat_minor": 4
}